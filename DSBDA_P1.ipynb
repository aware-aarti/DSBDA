{
  "nbformat": 4,
  "nbformat_minor": 0,
  "metadata": {
    "colab": {
      "provenance": []
    },
    "kernelspec": {
      "name": "python3",
      "display_name": "Python 3"
    },
    "language_info": {
      "name": "python"
    }
  },
  "cells": [
    {
      "cell_type": "code",
      "execution_count": null,
      "metadata": {
        "id": "tdlgDmjfYXAy"
      },
      "outputs": [],
      "source": [
        "import pandas as pd\n",
        "import numpy as np"
      ]
    },
    {
      "cell_type": "code",
      "source": [
        "df=pd.read_csv('/content/Academic_Performance - Academic_Performance.csv')"
      ],
      "metadata": {
        "id": "t-3MjUVdjJYY"
      },
      "execution_count": null,
      "outputs": []
    },
    {
      "cell_type": "code",
      "source": [
        "df.head()"
      ],
      "metadata": {
        "colab": {
          "base_uri": "https://localhost:8080/",
          "height": 347
        },
        "id": "lQeouQEVjJeo",
        "outputId": "b768d261-8634-46b7-ce04-dc1c83bea4a9"
      },
      "execution_count": null,
      "outputs": [
        {
          "output_type": "execute_result",
          "data": {
            "text/plain": [
              "         STUDENT_ID GENDER PLACEMENT HONOR_OPTED_OR_NOT EDUCATION_TYPE  \\\n",
              "0  SB11201210000129      F       Yes                Yes       ACADEMIC   \n",
              "1  SB11201210000137      F       Yes                Yes       ACADEMIC   \n",
              "2  SB11201210005154      M        No                Yes       ACADEMIC   \n",
              "3  SB11201210007504      F       Yes                Yes       ACADEMIC   \n",
              "4  SB11201210007548      M       Yes                Yes       ACADEMIC   \n",
              "\n",
              "         ACADEMIC_PROGRAM  COURSE 1 MARKS  COURSE 2 MARKS  COURSE 3 MARKS  \\\n",
              "0  INDUSTRIAL ENGINEERING            71.0            93.0            71.0   \n",
              "1  INDUSTRIAL ENGINEERING            97.0            38.0            86.0   \n",
              "2  ELECTRONIC ENGINEERING            17.0             1.0            18.0   \n",
              "3  INDUSTRIAL ENGINEERING            65.0            35.0            76.0   \n",
              "4  INDUSTRIAL ENGINEERING            94.0            94.0            98.0   \n",
              "\n",
              "   COURSE 4 MARKS  COURSE 5 MARKS  PERCENTILE OVEARLL_GRADE  \n",
              "0            93.0            79.0          91   FIRST CLASS  \n",
              "1            98.0            78.0          92   THIRD CLASS  \n",
              "2            43.0            22.0           7   DISTINCTION  \n",
              "3            80.0            48.0          67   FIRST CLASS  \n",
              "4           100.0            71.0          98   FIRST CLASS  "
            ],
            "text/html": [
              "\n",
              "  <div id=\"df-1e163142-121e-417a-a50c-373c5f586d3e\" class=\"colab-df-container\">\n",
              "    <div>\n",
              "<style scoped>\n",
              "    .dataframe tbody tr th:only-of-type {\n",
              "        vertical-align: middle;\n",
              "    }\n",
              "\n",
              "    .dataframe tbody tr th {\n",
              "        vertical-align: top;\n",
              "    }\n",
              "\n",
              "    .dataframe thead th {\n",
              "        text-align: right;\n",
              "    }\n",
              "</style>\n",
              "<table border=\"1\" class=\"dataframe\">\n",
              "  <thead>\n",
              "    <tr style=\"text-align: right;\">\n",
              "      <th></th>\n",
              "      <th>STUDENT_ID</th>\n",
              "      <th>GENDER</th>\n",
              "      <th>PLACEMENT</th>\n",
              "      <th>HONOR_OPTED_OR_NOT</th>\n",
              "      <th>EDUCATION_TYPE</th>\n",
              "      <th>ACADEMIC_PROGRAM</th>\n",
              "      <th>COURSE 1 MARKS</th>\n",
              "      <th>COURSE 2 MARKS</th>\n",
              "      <th>COURSE 3 MARKS</th>\n",
              "      <th>COURSE 4 MARKS</th>\n",
              "      <th>COURSE 5 MARKS</th>\n",
              "      <th>PERCENTILE</th>\n",
              "      <th>OVEARLL_GRADE</th>\n",
              "    </tr>\n",
              "  </thead>\n",
              "  <tbody>\n",
              "    <tr>\n",
              "      <th>0</th>\n",
              "      <td>SB11201210000129</td>\n",
              "      <td>F</td>\n",
              "      <td>Yes</td>\n",
              "      <td>Yes</td>\n",
              "      <td>ACADEMIC</td>\n",
              "      <td>INDUSTRIAL ENGINEERING</td>\n",
              "      <td>71.0</td>\n",
              "      <td>93.0</td>\n",
              "      <td>71.0</td>\n",
              "      <td>93.0</td>\n",
              "      <td>79.0</td>\n",
              "      <td>91</td>\n",
              "      <td>FIRST CLASS</td>\n",
              "    </tr>\n",
              "    <tr>\n",
              "      <th>1</th>\n",
              "      <td>SB11201210000137</td>\n",
              "      <td>F</td>\n",
              "      <td>Yes</td>\n",
              "      <td>Yes</td>\n",
              "      <td>ACADEMIC</td>\n",
              "      <td>INDUSTRIAL ENGINEERING</td>\n",
              "      <td>97.0</td>\n",
              "      <td>38.0</td>\n",
              "      <td>86.0</td>\n",
              "      <td>98.0</td>\n",
              "      <td>78.0</td>\n",
              "      <td>92</td>\n",
              "      <td>THIRD CLASS</td>\n",
              "    </tr>\n",
              "    <tr>\n",
              "      <th>2</th>\n",
              "      <td>SB11201210005154</td>\n",
              "      <td>M</td>\n",
              "      <td>No</td>\n",
              "      <td>Yes</td>\n",
              "      <td>ACADEMIC</td>\n",
              "      <td>ELECTRONIC ENGINEERING</td>\n",
              "      <td>17.0</td>\n",
              "      <td>1.0</td>\n",
              "      <td>18.0</td>\n",
              "      <td>43.0</td>\n",
              "      <td>22.0</td>\n",
              "      <td>7</td>\n",
              "      <td>DISTINCTION</td>\n",
              "    </tr>\n",
              "    <tr>\n",
              "      <th>3</th>\n",
              "      <td>SB11201210007504</td>\n",
              "      <td>F</td>\n",
              "      <td>Yes</td>\n",
              "      <td>Yes</td>\n",
              "      <td>ACADEMIC</td>\n",
              "      <td>INDUSTRIAL ENGINEERING</td>\n",
              "      <td>65.0</td>\n",
              "      <td>35.0</td>\n",
              "      <td>76.0</td>\n",
              "      <td>80.0</td>\n",
              "      <td>48.0</td>\n",
              "      <td>67</td>\n",
              "      <td>FIRST CLASS</td>\n",
              "    </tr>\n",
              "    <tr>\n",
              "      <th>4</th>\n",
              "      <td>SB11201210007548</td>\n",
              "      <td>M</td>\n",
              "      <td>Yes</td>\n",
              "      <td>Yes</td>\n",
              "      <td>ACADEMIC</td>\n",
              "      <td>INDUSTRIAL ENGINEERING</td>\n",
              "      <td>94.0</td>\n",
              "      <td>94.0</td>\n",
              "      <td>98.0</td>\n",
              "      <td>100.0</td>\n",
              "      <td>71.0</td>\n",
              "      <td>98</td>\n",
              "      <td>FIRST CLASS</td>\n",
              "    </tr>\n",
              "  </tbody>\n",
              "</table>\n",
              "</div>\n",
              "    <div class=\"colab-df-buttons\">\n",
              "\n",
              "  <div class=\"colab-df-container\">\n",
              "    <button class=\"colab-df-convert\" onclick=\"convertToInteractive('df-1e163142-121e-417a-a50c-373c5f586d3e')\"\n",
              "            title=\"Convert this dataframe to an interactive table.\"\n",
              "            style=\"display:none;\">\n",
              "\n",
              "  <svg xmlns=\"http://www.w3.org/2000/svg\" height=\"24px\" viewBox=\"0 -960 960 960\">\n",
              "    <path d=\"M120-120v-720h720v720H120Zm60-500h600v-160H180v160Zm220 220h160v-160H400v160Zm0 220h160v-160H400v160ZM180-400h160v-160H180v160Zm440 0h160v-160H620v160ZM180-180h160v-160H180v160Zm440 0h160v-160H620v160Z\"/>\n",
              "  </svg>\n",
              "    </button>\n",
              "\n",
              "  <style>\n",
              "    .colab-df-container {\n",
              "      display:flex;\n",
              "      gap: 12px;\n",
              "    }\n",
              "\n",
              "    .colab-df-convert {\n",
              "      background-color: #E8F0FE;\n",
              "      border: none;\n",
              "      border-radius: 50%;\n",
              "      cursor: pointer;\n",
              "      display: none;\n",
              "      fill: #1967D2;\n",
              "      height: 32px;\n",
              "      padding: 0 0 0 0;\n",
              "      width: 32px;\n",
              "    }\n",
              "\n",
              "    .colab-df-convert:hover {\n",
              "      background-color: #E2EBFA;\n",
              "      box-shadow: 0px 1px 2px rgba(60, 64, 67, 0.3), 0px 1px 3px 1px rgba(60, 64, 67, 0.15);\n",
              "      fill: #174EA6;\n",
              "    }\n",
              "\n",
              "    .colab-df-buttons div {\n",
              "      margin-bottom: 4px;\n",
              "    }\n",
              "\n",
              "    [theme=dark] .colab-df-convert {\n",
              "      background-color: #3B4455;\n",
              "      fill: #D2E3FC;\n",
              "    }\n",
              "\n",
              "    [theme=dark] .colab-df-convert:hover {\n",
              "      background-color: #434B5C;\n",
              "      box-shadow: 0px 1px 3px 1px rgba(0, 0, 0, 0.15);\n",
              "      filter: drop-shadow(0px 1px 2px rgba(0, 0, 0, 0.3));\n",
              "      fill: #FFFFFF;\n",
              "    }\n",
              "  </style>\n",
              "\n",
              "    <script>\n",
              "      const buttonEl =\n",
              "        document.querySelector('#df-1e163142-121e-417a-a50c-373c5f586d3e button.colab-df-convert');\n",
              "      buttonEl.style.display =\n",
              "        google.colab.kernel.accessAllowed ? 'block' : 'none';\n",
              "\n",
              "      async function convertToInteractive(key) {\n",
              "        const element = document.querySelector('#df-1e163142-121e-417a-a50c-373c5f586d3e');\n",
              "        const dataTable =\n",
              "          await google.colab.kernel.invokeFunction('convertToInteractive',\n",
              "                                                    [key], {});\n",
              "        if (!dataTable) return;\n",
              "\n",
              "        const docLinkHtml = 'Like what you see? Visit the ' +\n",
              "          '<a target=\"_blank\" href=https://colab.research.google.com/notebooks/data_table.ipynb>data table notebook</a>'\n",
              "          + ' to learn more about interactive tables.';\n",
              "        element.innerHTML = '';\n",
              "        dataTable['output_type'] = 'display_data';\n",
              "        await google.colab.output.renderOutput(dataTable, element);\n",
              "        const docLink = document.createElement('div');\n",
              "        docLink.innerHTML = docLinkHtml;\n",
              "        element.appendChild(docLink);\n",
              "      }\n",
              "    </script>\n",
              "  </div>\n",
              "\n",
              "\n",
              "<div id=\"df-83b326cd-7ab5-4a5b-a1c5-012807c61350\">\n",
              "  <button class=\"colab-df-quickchart\" onclick=\"quickchart('df-83b326cd-7ab5-4a5b-a1c5-012807c61350')\"\n",
              "            title=\"Suggest charts\"\n",
              "            style=\"display:none;\">\n",
              "\n",
              "<svg xmlns=\"http://www.w3.org/2000/svg\" height=\"24px\"viewBox=\"0 0 24 24\"\n",
              "     width=\"24px\">\n",
              "    <g>\n",
              "        <path d=\"M19 3H5c-1.1 0-2 .9-2 2v14c0 1.1.9 2 2 2h14c1.1 0 2-.9 2-2V5c0-1.1-.9-2-2-2zM9 17H7v-7h2v7zm4 0h-2V7h2v10zm4 0h-2v-4h2v4z\"/>\n",
              "    </g>\n",
              "</svg>\n",
              "  </button>\n",
              "\n",
              "<style>\n",
              "  .colab-df-quickchart {\n",
              "      --bg-color: #E8F0FE;\n",
              "      --fill-color: #1967D2;\n",
              "      --hover-bg-color: #E2EBFA;\n",
              "      --hover-fill-color: #174EA6;\n",
              "      --disabled-fill-color: #AAA;\n",
              "      --disabled-bg-color: #DDD;\n",
              "  }\n",
              "\n",
              "  [theme=dark] .colab-df-quickchart {\n",
              "      --bg-color: #3B4455;\n",
              "      --fill-color: #D2E3FC;\n",
              "      --hover-bg-color: #434B5C;\n",
              "      --hover-fill-color: #FFFFFF;\n",
              "      --disabled-bg-color: #3B4455;\n",
              "      --disabled-fill-color: #666;\n",
              "  }\n",
              "\n",
              "  .colab-df-quickchart {\n",
              "    background-color: var(--bg-color);\n",
              "    border: none;\n",
              "    border-radius: 50%;\n",
              "    cursor: pointer;\n",
              "    display: none;\n",
              "    fill: var(--fill-color);\n",
              "    height: 32px;\n",
              "    padding: 0;\n",
              "    width: 32px;\n",
              "  }\n",
              "\n",
              "  .colab-df-quickchart:hover {\n",
              "    background-color: var(--hover-bg-color);\n",
              "    box-shadow: 0 1px 2px rgba(60, 64, 67, 0.3), 0 1px 3px 1px rgba(60, 64, 67, 0.15);\n",
              "    fill: var(--button-hover-fill-color);\n",
              "  }\n",
              "\n",
              "  .colab-df-quickchart-complete:disabled,\n",
              "  .colab-df-quickchart-complete:disabled:hover {\n",
              "    background-color: var(--disabled-bg-color);\n",
              "    fill: var(--disabled-fill-color);\n",
              "    box-shadow: none;\n",
              "  }\n",
              "\n",
              "  .colab-df-spinner {\n",
              "    border: 2px solid var(--fill-color);\n",
              "    border-color: transparent;\n",
              "    border-bottom-color: var(--fill-color);\n",
              "    animation:\n",
              "      spin 1s steps(1) infinite;\n",
              "  }\n",
              "\n",
              "  @keyframes spin {\n",
              "    0% {\n",
              "      border-color: transparent;\n",
              "      border-bottom-color: var(--fill-color);\n",
              "      border-left-color: var(--fill-color);\n",
              "    }\n",
              "    20% {\n",
              "      border-color: transparent;\n",
              "      border-left-color: var(--fill-color);\n",
              "      border-top-color: var(--fill-color);\n",
              "    }\n",
              "    30% {\n",
              "      border-color: transparent;\n",
              "      border-left-color: var(--fill-color);\n",
              "      border-top-color: var(--fill-color);\n",
              "      border-right-color: var(--fill-color);\n",
              "    }\n",
              "    40% {\n",
              "      border-color: transparent;\n",
              "      border-right-color: var(--fill-color);\n",
              "      border-top-color: var(--fill-color);\n",
              "    }\n",
              "    60% {\n",
              "      border-color: transparent;\n",
              "      border-right-color: var(--fill-color);\n",
              "    }\n",
              "    80% {\n",
              "      border-color: transparent;\n",
              "      border-right-color: var(--fill-color);\n",
              "      border-bottom-color: var(--fill-color);\n",
              "    }\n",
              "    90% {\n",
              "      border-color: transparent;\n",
              "      border-bottom-color: var(--fill-color);\n",
              "    }\n",
              "  }\n",
              "</style>\n",
              "\n",
              "  <script>\n",
              "    async function quickchart(key) {\n",
              "      const quickchartButtonEl =\n",
              "        document.querySelector('#' + key + ' button');\n",
              "      quickchartButtonEl.disabled = true;  // To prevent multiple clicks.\n",
              "      quickchartButtonEl.classList.add('colab-df-spinner');\n",
              "      try {\n",
              "        const charts = await google.colab.kernel.invokeFunction(\n",
              "            'suggestCharts', [key], {});\n",
              "      } catch (error) {\n",
              "        console.error('Error during call to suggestCharts:', error);\n",
              "      }\n",
              "      quickchartButtonEl.classList.remove('colab-df-spinner');\n",
              "      quickchartButtonEl.classList.add('colab-df-quickchart-complete');\n",
              "    }\n",
              "    (() => {\n",
              "      let quickchartButtonEl =\n",
              "        document.querySelector('#df-83b326cd-7ab5-4a5b-a1c5-012807c61350 button');\n",
              "      quickchartButtonEl.style.display =\n",
              "        google.colab.kernel.accessAllowed ? 'block' : 'none';\n",
              "    })();\n",
              "  </script>\n",
              "</div>\n",
              "    </div>\n",
              "  </div>\n"
            ],
            "application/vnd.google.colaboratory.intrinsic+json": {
              "type": "dataframe",
              "variable_name": "df",
              "summary": "{\n  \"name\": \"df\",\n  \"rows\": 12411,\n  \"fields\": [\n    {\n      \"column\": \"STUDENT_ID\",\n      \"properties\": {\n        \"dtype\": \"string\",\n        \"num_unique_values\": 12411,\n        \"samples\": [\n          \"SB11201320421073\",\n          \"SB11201320185898\",\n          \"SB11201320138734\"\n        ],\n        \"semantic_type\": \"\",\n        \"description\": \"\"\n      }\n    },\n    {\n      \"column\": \"GENDER\",\n      \"properties\": {\n        \"dtype\": \"category\",\n        \"num_unique_values\": 2,\n        \"samples\": [\n          \"M\",\n          \"F\"\n        ],\n        \"semantic_type\": \"\",\n        \"description\": \"\"\n      }\n    },\n    {\n      \"column\": \"PLACEMENT\",\n      \"properties\": {\n        \"dtype\": \"category\",\n        \"num_unique_values\": 2,\n        \"samples\": [\n          \"No\",\n          \"Yes\"\n        ],\n        \"semantic_type\": \"\",\n        \"description\": \"\"\n      }\n    },\n    {\n      \"column\": \"HONOR_OPTED_OR_NOT\",\n      \"properties\": {\n        \"dtype\": \"category\",\n        \"num_unique_values\": 2,\n        \"samples\": [\n          \"No\",\n          \"Yes\"\n        ],\n        \"semantic_type\": \"\",\n        \"description\": \"\"\n      }\n    },\n    {\n      \"column\": \"EDUCATION_TYPE\",\n      \"properties\": {\n        \"dtype\": \"category\",\n        \"num_unique_values\": 4,\n        \"samples\": [\n          \"TECHNICAL\",\n          \"Not apply\"\n        ],\n        \"semantic_type\": \"\",\n        \"description\": \"\"\n      }\n    },\n    {\n      \"column\": \"ACADEMIC_PROGRAM\",\n      \"properties\": {\n        \"dtype\": \"category\",\n        \"num_unique_values\": 21,\n        \"samples\": [\n          \"INDUSTRIAL ENGINEERING\",\n          \"CIVIL CONSTRUCTIONS\"\n        ],\n        \"semantic_type\": \"\",\n        \"description\": \"\"\n      }\n    },\n    {\n      \"column\": \"COURSE 1 MARKS\",\n      \"properties\": {\n        \"dtype\": \"number\",\n        \"std\": 22.716227248844774,\n        \"min\": -1.0,\n        \"max\": 100.0,\n        \"num_unique_values\": 101,\n        \"samples\": [\n          55.0,\n          20.0\n        ],\n        \"semantic_type\": \"\",\n        \"description\": \"\"\n      }\n    },\n    {\n      \"column\": \"COURSE 2 MARKS\",\n      \"properties\": {\n        \"dtype\": \"number\",\n        \"std\": 27.669356645059786,\n        \"min\": 1.0,\n        \"max\": 100.0,\n        \"num_unique_values\": 100,\n        \"samples\": [\n          23.0,\n          58.0\n        ],\n        \"semantic_type\": \"\",\n        \"description\": \"\"\n      }\n    },\n    {\n      \"column\": \"COURSE 3 MARKS\",\n      \"properties\": {\n        \"dtype\": \"number\",\n        \"std\": 29.00244580449928,\n        \"min\": 1.0,\n        \"max\": 122.0,\n        \"num_unique_values\": 105,\n        \"samples\": [\n          45.0,\n          1.0\n        ],\n        \"semantic_type\": \"\",\n        \"description\": \"\"\n      }\n    },\n    {\n      \"column\": \"COURSE 4 MARKS\",\n      \"properties\": {\n        \"dtype\": \"number\",\n        \"std\": 25.505279792358763,\n        \"min\": 1.0,\n        \"max\": 111.0,\n        \"num_unique_values\": 102,\n        \"samples\": [\n          72.0,\n          20.0\n        ],\n        \"semantic_type\": \"\",\n        \"description\": \"\"\n      }\n    },\n    {\n      \"column\": \"COURSE 5 MARKS\",\n      \"properties\": {\n        \"dtype\": \"number\",\n        \"std\": 30.007992557363483,\n        \"min\": 0.0,\n        \"max\": 107.0,\n        \"num_unique_values\": 102,\n        \"samples\": [\n          43.0,\n          32.0\n        ],\n        \"semantic_type\": \"\",\n        \"description\": \"\"\n      }\n    },\n    {\n      \"column\": \"PERCENTILE\",\n      \"properties\": {\n        \"dtype\": \"number\",\n        \"std\": 25,\n        \"min\": 1,\n        \"max\": 100,\n        \"num_unique_values\": 100,\n        \"samples\": [\n          48,\n          80\n        ],\n        \"semantic_type\": \"\",\n        \"description\": \"\"\n      }\n    },\n    {\n      \"column\": \"OVEARLL_GRADE\",\n      \"properties\": {\n        \"dtype\": \"category\",\n        \"num_unique_values\": 4,\n        \"samples\": [\n          \"THIRD CLASS\",\n          \"SECOND CLASS\"\n        ],\n        \"semantic_type\": \"\",\n        \"description\": \"\"\n      }\n    }\n  ]\n}"
            }
          },
          "metadata": {},
          "execution_count": 40
        }
      ]
    },
    {
      "cell_type": "code",
      "source": [
        "df.isnull().sum()"
      ],
      "metadata": {
        "colab": {
          "base_uri": "https://localhost:8080/"
        },
        "id": "jS03svkujJkX",
        "outputId": "51587d9a-d7a0-4bd9-9253-97bdfa460070"
      },
      "execution_count": null,
      "outputs": [
        {
          "output_type": "execute_result",
          "data": {
            "text/plain": [
              "STUDENT_ID             0\n",
              "GENDER                22\n",
              "PLACEMENT             15\n",
              "HONOR_OPTED_OR_NOT    14\n",
              "EDUCATION_TYPE        15\n",
              "ACADEMIC_PROGRAM      34\n",
              "COURSE 1 MARKS        11\n",
              "COURSE 2 MARKS         8\n",
              "COURSE 3 MARKS        14\n",
              "COURSE 4 MARKS        14\n",
              "COURSE 5 MARKS        22\n",
              "PERCENTILE             0\n",
              "OVEARLL_GRADE          0\n",
              "dtype: int64"
            ]
          },
          "metadata": {},
          "execution_count": 41
        }
      ]
    },
    {
      "cell_type": "code",
      "source": [
        "miss_values_per=100*df.isnull().sum()/len(df)"
      ],
      "metadata": {
        "id": "wf5GDdtXjJqV"
      },
      "execution_count": null,
      "outputs": []
    },
    {
      "cell_type": "code",
      "source": [
        "miss_values_per"
      ],
      "metadata": {
        "colab": {
          "base_uri": "https://localhost:8080/"
        },
        "id": "92AJlz4_jJva",
        "outputId": "8bf732f8-88e7-4b24-a372-c71fad4b5989"
      },
      "execution_count": null,
      "outputs": [
        {
          "output_type": "execute_result",
          "data": {
            "text/plain": [
              "STUDENT_ID            0.000000\n",
              "GENDER                0.177262\n",
              "PLACEMENT             0.120861\n",
              "HONOR_OPTED_OR_NOT    0.112803\n",
              "EDUCATION_TYPE        0.120861\n",
              "ACADEMIC_PROGRAM      0.273951\n",
              "COURSE 1 MARKS        0.088631\n",
              "COURSE 2 MARKS        0.064459\n",
              "COURSE 3 MARKS        0.112803\n",
              "COURSE 4 MARKS        0.112803\n",
              "COURSE 5 MARKS        0.177262\n",
              "PERCENTILE            0.000000\n",
              "OVEARLL_GRADE         0.000000\n",
              "dtype: float64"
            ]
          },
          "metadata": {},
          "execution_count": 43
        }
      ]
    },
    {
      "cell_type": "code",
      "source": [
        "!pip install missingno"
      ],
      "metadata": {
        "colab": {
          "base_uri": "https://localhost:8080/"
        },
        "id": "bAdD3zWBj2Es",
        "outputId": "f0fedae7-0bb6-4af5-e213-17acc62ca3b5"
      },
      "execution_count": null,
      "outputs": [
        {
          "output_type": "stream",
          "name": "stdout",
          "text": [
            "Requirement already satisfied: missingno in /usr/local/lib/python3.10/dist-packages (0.5.2)\n",
            "Requirement already satisfied: numpy in /usr/local/lib/python3.10/dist-packages (from missingno) (1.25.2)\n",
            "Requirement already satisfied: matplotlib in /usr/local/lib/python3.10/dist-packages (from missingno) (3.7.1)\n",
            "Requirement already satisfied: scipy in /usr/local/lib/python3.10/dist-packages (from missingno) (1.11.4)\n",
            "Requirement already satisfied: seaborn in /usr/local/lib/python3.10/dist-packages (from missingno) (0.13.1)\n",
            "Requirement already satisfied: contourpy>=1.0.1 in /usr/local/lib/python3.10/dist-packages (from matplotlib->missingno) (1.2.1)\n",
            "Requirement already satisfied: cycler>=0.10 in /usr/local/lib/python3.10/dist-packages (from matplotlib->missingno) (0.12.1)\n",
            "Requirement already satisfied: fonttools>=4.22.0 in /usr/local/lib/python3.10/dist-packages (from matplotlib->missingno) (4.51.0)\n",
            "Requirement already satisfied: kiwisolver>=1.0.1 in /usr/local/lib/python3.10/dist-packages (from matplotlib->missingno) (1.4.5)\n",
            "Requirement already satisfied: packaging>=20.0 in /usr/local/lib/python3.10/dist-packages (from matplotlib->missingno) (24.0)\n",
            "Requirement already satisfied: pillow>=6.2.0 in /usr/local/lib/python3.10/dist-packages (from matplotlib->missingno) (9.4.0)\n",
            "Requirement already satisfied: pyparsing>=2.3.1 in /usr/local/lib/python3.10/dist-packages (from matplotlib->missingno) (3.1.2)\n",
            "Requirement already satisfied: python-dateutil>=2.7 in /usr/local/lib/python3.10/dist-packages (from matplotlib->missingno) (2.8.2)\n",
            "Requirement already satisfied: pandas>=1.2 in /usr/local/lib/python3.10/dist-packages (from seaborn->missingno) (2.0.3)\n",
            "Requirement already satisfied: pytz>=2020.1 in /usr/local/lib/python3.10/dist-packages (from pandas>=1.2->seaborn->missingno) (2023.4)\n",
            "Requirement already satisfied: tzdata>=2022.1 in /usr/local/lib/python3.10/dist-packages (from pandas>=1.2->seaborn->missingno) (2024.1)\n",
            "Requirement already satisfied: six>=1.5 in /usr/local/lib/python3.10/dist-packages (from python-dateutil>=2.7->matplotlib->missingno) (1.16.0)\n"
          ]
        }
      ]
    },
    {
      "cell_type": "code",
      "source": [
        "import missingno as msno\n",
        "msno.bar(df)"
      ],
      "metadata": {
        "colab": {
          "base_uri": "https://localhost:8080/",
          "height": 460
        },
        "id": "0PicK1jFj2Ki",
        "outputId": "167b0e71-be0e-4148-8e71-c1f2ad8bfa89"
      },
      "execution_count": null,
      "outputs": [
        {
          "output_type": "execute_result",
          "data": {
            "text/plain": [
              "<Axes: >"
            ]
          },
          "metadata": {},
          "execution_count": 45
        },
        {
          "output_type": "display_data",
          "data": {
            "text/plain": [
              "<Figure size 2500x1000 with 3 Axes>"
            ],
            "image/png": "[encoded data removed]"
          },
          "metadata": {}
        }
      ]
    },
    {
      "cell_type": "code",
      "source": [
        "df['COURSE 1 MARKS'].fillna(df['COURSE 1 MARKS'].mean(), inplace=True)\n",
        "#df['COURSE 1 MARKS']=df['COURSE 1 MARKS'].replace(np.NaN,df['COURSE 1 MARKS'].mean())"
      ],
      "metadata": {
        "id": "ryBExgEZj2QI"
      },
      "execution_count": null,
      "outputs": []
    },
    {
      "cell_type": "code",
      "source": [
        "df['COURSE 1 MARKS'].isnull().sum()"
      ],
      "metadata": {
        "colab": {
          "base_uri": "https://localhost:8080/"
        },
        "id": "Dp-7vQwXj2V9",
        "outputId": "d578da34-e3f0-4dd8-c2f6-624aaaaed3e2"
      },
      "execution_count": null,
      "outputs": [
        {
          "output_type": "execute_result",
          "data": {
            "text/plain": [
              "0"
            ]
          },
          "metadata": {},
          "execution_count": 47
        }
      ]
    },
    {
      "cell_type": "code",
      "source": [
        "df['COURSE 2 MARKS']=df['COURSE 2 MARKS'].fillna(0)\n",
        "df['COURSE 2 MARKS'].isnull().sum()"
      ],
      "metadata": {
        "colab": {
          "base_uri": "https://localhost:8080/"
        },
        "id": "jhWZDJgJn2dH",
        "outputId": "9fe5975d-040e-400a-b9d8-5e2f87fce855"
      },
      "execution_count": null,
      "outputs": [
        {
          "output_type": "execute_result",
          "data": {
            "text/plain": [
              "0"
            ]
          },
          "metadata": {},
          "execution_count": 48
        }
      ]
    },
    {
      "cell_type": "code",
      "source": [
        "categorical_columns = df.select_dtypes(include=['object']).columns\n",
        "categorical_columns"
      ],
      "metadata": {
        "colab": {
          "base_uri": "https://localhost:8080/"
        },
        "id": "jrXnBXLZn2im",
        "outputId": "2fa9f8e9-7559-47e9-dd61-aa326c9018a2"
      },
      "execution_count": null,
      "outputs": [
        {
          "output_type": "execute_result",
          "data": {
            "text/plain": [
              "Index(['STUDENT_ID', 'GENDER', 'PLACEMENT', 'HONOR_OPTED_OR_NOT',\n",
              "       'EDUCATION_TYPE', 'ACADEMIC_PROGRAM', 'OVEARLL_GRADE'],\n",
              "      dtype='object')"
            ]
          },
          "metadata": {},
          "execution_count": 49
        }
      ]
    },
    {
      "cell_type": "code",
      "source": [
        "from sklearn.impute import SimpleImputer\n",
        "\n",
        "# Create SimpleImputer instance with strategy='most_frequent'\n",
        "imputer = SimpleImputer(strategy='most_frequent')\n",
        "# Reshape the input to a 2D array and then fit_transform\n",
        "imputed_data = imputer.fit_transform(df[['ACADEMIC_PROGRAM']])\n",
        "\n",
        "# Assign the imputed values back to the DataFrame column\n",
        "df['ACADEMIC_PROGRAM'] = imputed_data.ravel()\n",
        "\n",
        "# Print the DataFrame after imputation\n",
        "\n",
        "\n",
        "df['ACADEMIC_PROGRAM'].isnull().sum()"
      ],
      "metadata": {
        "colab": {
          "base_uri": "https://localhost:8080/"
        },
        "id": "OwoLMa8SoYsy",
        "outputId": "de666bbf-a245-4fec-f404-b01453ad7640"
      },
      "execution_count": null,
      "outputs": [
        {
          "output_type": "execute_result",
          "data": {
            "text/plain": [
              "0"
            ]
          },
          "metadata": {},
          "execution_count": 50
        }
      ]
    },
    {
      "cell_type": "code",
      "source": [
        "imputer=SimpleImputer(strategy='constant', fill_value='missing')\n",
        "imputed_data=imputer.fit_transform(df[['GENDER']])\n",
        "df['GENDER']=imputed_data.ravel()\n",
        "df['GENDER'].isnull().sum()"
      ],
      "metadata": {
        "colab": {
          "base_uri": "https://localhost:8080/"
        },
        "id": "9ybBfoifoYyC",
        "outputId": "b27850e9-f91c-4ef0-b2a4-2cbf7b1edf88"
      },
      "execution_count": null,
      "outputs": [
        {
          "output_type": "execute_result",
          "data": {
            "text/plain": [
              "0"
            ]
          },
          "metadata": {},
          "execution_count": 51
        }
      ]
    },
    {
      "cell_type": "code",
      "source": [
        "df=df.dropna()\n",
        "df.isnull().sum()"
      ],
      "metadata": {
        "colab": {
          "base_uri": "https://localhost:8080/"
        },
        "id": "IuqBCbf121Ay",
        "outputId": "6222951f-b4d0-4ddd-df45-fad53f3d18f0"
      },
      "execution_count": null,
      "outputs": [
        {
          "output_type": "execute_result",
          "data": {
            "text/plain": [
              "STUDENT_ID            0\n",
              "GENDER                0\n",
              "PLACEMENT             0\n",
              "HONOR_OPTED_OR_NOT    0\n",
              "EDUCATION_TYPE        0\n",
              "ACADEMIC_PROGRAM      0\n",
              "COURSE 1 MARKS        0\n",
              "COURSE 2 MARKS        0\n",
              "COURSE 3 MARKS        0\n",
              "COURSE 4 MARKS        0\n",
              "COURSE 5 MARKS        0\n",
              "PERCENTILE            0\n",
              "OVEARLL_GRADE         0\n",
              "dtype: int64"
            ]
          },
          "metadata": {},
          "execution_count": 52
        }
      ]
    },
    {
      "cell_type": "markdown",
      "source": [
        "# FIND OUTLIERS"
      ],
      "metadata": {
        "id": "D1zKRZ8B1G_x"
      }
    },
    {
      "cell_type": "code",
      "source": [
        "#using seaborn\n",
        "import seaborn as sns\n",
        "sns.boxplot(x=df['COURSE 1 MARKS'],data=df)\n"
      ],
      "metadata": {
        "colab": {
          "base_uri": "https://localhost:8080/",
          "height": 467
        },
        "id": "OwjAkhaA1DUB",
        "outputId": "0d036a8d-7193-4226-f68d-dbb6e1895314"
      },
      "execution_count": null,
      "outputs": [
        {
          "output_type": "execute_result",
          "data": {
            "text/plain": [
              "<Axes: xlabel='COURSE 1 MARKS'>"
            ]
          },
          "metadata": {},
          "execution_count": 53
        },
        {
          "output_type": "display_data",
          "data": {
            "text/plain": [
              "<Figure size 640x480 with 1 Axes>"
            ],
            "image/png": "[encoded data removed]"
          },
          "metadata": {}
        }
      ]
    },
    {
      "cell_type": "markdown",
      "source": [
        "# FIND OUTLIERS USING Z-SCORE"
      ],
      "metadata": {
        "id": "6uriZRAq5nw6"
      }
    },
    {
      "cell_type": "code",
      "source": [
        "import numpy as np\n",
        "outlier=[]\n",
        "def outlier_using_Zscore(data):\n",
        "\n",
        "  thres=3\n",
        "  mean=np.mean(data)\n",
        "  std=np.std(data)\n",
        "  for i in data:\n",
        "    ZS=(i-mean)/std\n",
        "    if(np.abs(ZS)>thres):\n",
        "      outlier.append(i)\n",
        "  return outlier\n",
        "\n",
        "OT = outlier_using_Zscore(df['COURSE 1 MARKS'])\n",
        "OT"
      ],
      "metadata": {
        "id": "G4uinDmi1Dal"
      },
      "execution_count": null,
      "outputs": []
    },
    {
      "cell_type": "markdown",
      "source": [
        "# find outlier using IQR"
      ],
      "metadata": {
        "id": "iQSLKIkubhgl"
      }
    },
    {
      "cell_type": "code",
      "source": [
        "outlier=[]\n",
        "def outlier_using_iqr(data):\n",
        "  data=sorted(data)\n",
        "  q1=np.percentile(data,25)\n",
        "  q3=np.percentile(data,75)\n",
        "  IQR=q3-q1\n",
        "  l_bound=q1-(1.5*IQR)\n",
        "  u_bound=q3+(1.5*IQR)\n",
        "  for i in data:\n",
        "    if(i<l_bound or i>u_bound):\n",
        "      outlier.append(i)\n",
        "  return outlier\n",
        "\n",
        "outlier_using_iqr(df['COURSE 1 MARKS'])"
      ],
      "metadata": {
        "colab": {
          "base_uri": "https://localhost:8080/"
        },
        "id": "TIjVR6g71Dft",
        "outputId": "c3058fb7-fb3c-4b9c-f948-266925c6f911"
      },
      "execution_count": null,
      "outputs": [
        {
          "output_type": "execute_result",
          "data": {
            "text/plain": [
              "[-1.0,\n",
              " -1.0,\n",
              " 1.0,\n",
              " 1.0,\n",
              " 1.0,\n",
              " 1.0,\n",
              " 1.0,\n",
              " 1.0,\n",
              " 1.0,\n",
              " 1.0,\n",
              " 1.0,\n",
              " 1.0,\n",
              " 1.0,\n",
              " 1.0,\n",
              " 1.0,\n",
              " 1.0,\n",
              " 2.0,\n",
              " 2.0,\n",
              " 2.0,\n",
              " 2.0,\n",
              " 2.0,\n",
              " 2.0,\n",
              " 2.0,\n",
              " 2.0,\n",
              " 2.0,\n",
              " 2.0,\n",
              " 3.0,\n",
              " 3.0,\n",
              " 3.0,\n",
              " 3.0,\n",
              " 3.0,\n",
              " 3.0,\n",
              " 3.0,\n",
              " 3.0,\n",
              " 3.0,\n",
              " 3.0,\n",
              " 3.0,\n",
              " 4.0,\n",
              " 4.0,\n",
              " 4.0,\n",
              " 4.0,\n",
              " 4.0,\n",
              " 4.0,\n",
              " 4.0,\n",
              " 5.0,\n",
              " 5.0,\n",
              " 5.0,\n",
              " 5.0,\n",
              " 5.0,\n",
              " 5.0,\n",
              " 6.0,\n",
              " 6.0,\n",
              " 6.0,\n",
              " 6.0,\n",
              " 6.0,\n",
              " 6.0,\n",
              " 6.0,\n",
              " 6.0,\n",
              " 6.0,\n",
              " 6.0,\n",
              " 6.0,\n",
              " 7.0,\n",
              " 7.0,\n",
              " 7.0,\n",
              " 7.0,\n",
              " 7.0,\n",
              " 7.0,\n",
              " 7.0,\n",
              " 7.0,\n",
              " 7.0,\n",
              " 7.0,\n",
              " 7.0,\n",
              " 7.0,\n",
              " 7.0,\n",
              " 7.0,\n",
              " 7.0,\n",
              " 7.0,\n",
              " 7.0,\n",
              " 8.0,\n",
              " 8.0,\n",
              " 8.0,\n",
              " 8.0,\n",
              " 8.0,\n",
              " 8.0,\n",
              " 8.0,\n",
              " 8.0,\n",
              " 8.0,\n",
              " 8.0,\n",
              " 8.0,\n",
              " 8.0,\n",
              " 8.0,\n",
              " 8.0,\n",
              " 8.0,\n",
              " 8.0,\n",
              " 8.0,\n",
              " 8.0,\n",
              " 8.0,\n",
              " 8.0,\n",
              " 9.0,\n",
              " 9.0,\n",
              " 9.0,\n",
              " 9.0,\n",
              " 9.0,\n",
              " 9.0,\n",
              " 9.0,\n",
              " 9.0,\n",
              " 9.0,\n",
              " 9.0,\n",
              " 9.0,\n",
              " 9.0,\n",
              " 9.0,\n",
              " 9.0,\n",
              " 9.0,\n",
              " 10.0,\n",
              " 10.0,\n",
              " 10.0,\n",
              " 10.0,\n",
              " 10.0,\n",
              " 10.0,\n",
              " 10.0,\n",
              " 10.0,\n",
              " 10.0,\n",
              " 10.0,\n",
              " 10.0,\n",
              " 10.0,\n",
              " 10.0,\n",
              " 10.0,\n",
              " 10.0,\n",
              " 10.0,\n",
              " 10.0,\n",
              " 10.0,\n",
              " 10.0,\n",
              " 11.0,\n",
              " 11.0,\n",
              " 11.0,\n",
              " 11.0,\n",
              " 11.0,\n",
              " 11.0,\n",
              " 11.0,\n",
              " 11.0,\n",
              " 11.0,\n",
              " 11.0,\n",
              " 11.0,\n",
              " 11.0,\n",
              " 11.0,\n",
              " 11.0,\n",
              " 11.0,\n",
              " 11.0,\n",
              " 12.0,\n",
              " 12.0,\n",
              " 12.0,\n",
              " 12.0,\n",
              " 12.0,\n",
              " 12.0,\n",
              " 12.0,\n",
              " 12.0,\n",
              " 12.0,\n",
              " 12.0,\n",
              " 12.0,\n",
              " 12.0,\n",
              " 13.0,\n",
              " 13.0,\n",
              " 13.0,\n",
              " 13.0,\n",
              " 13.0,\n",
              " 13.0,\n",
              " 13.0,\n",
              " 13.0,\n",
              " 13.0,\n",
              " 13.0,\n",
              " 13.0,\n",
              " 13.0,\n",
              " 13.0,\n",
              " 13.0,\n",
              " 13.0,\n",
              " 13.0,\n",
              " 13.0,\n",
              " 13.0,\n",
              " 13.0,\n",
              " 13.0,\n",
              " 13.0,\n",
              " 14.0,\n",
              " 14.0,\n",
              " 14.0,\n",
              " 14.0,\n",
              " 14.0,\n",
              " 14.0,\n",
              " 14.0,\n",
              " 14.0,\n",
              " 14.0,\n",
              " 14.0,\n",
              " 14.0,\n",
              " 14.0,\n",
              " 14.0,\n",
              " 14.0,\n",
              " 14.0,\n",
              " 14.0,\n",
              " 14.0,\n",
              " 15.0,\n",
              " 15.0,\n",
              " 15.0,\n",
              " 15.0,\n",
              " 15.0,\n",
              " 15.0,\n",
              " 15.0,\n",
              " 15.0,\n",
              " 15.0,\n",
              " 15.0,\n",
              " 15.0,\n",
              " 15.0,\n",
              " 15.0,\n",
              " 15.0,\n",
              " 15.0,\n",
              " 15.0,\n",
              " 15.0,\n",
              " 15.0,\n",
              " 15.0,\n",
              " 15.0,\n",
              " 15.0,\n",
              " 15.0,\n",
              " 15.0,\n",
              " 15.0,\n",
              " 16.0,\n",
              " 16.0,\n",
              " 16.0,\n",
              " 16.0,\n",
              " 16.0,\n",
              " 16.0,\n",
              " 16.0,\n",
              " 16.0,\n",
              " 16.0,\n",
              " 16.0,\n",
              " 16.0,\n",
              " 16.0,\n",
              " 16.0,\n",
              " 16.0,\n",
              " 16.0,\n",
              " 16.0,\n",
              " 16.0,\n",
              " 16.0,\n",
              " 16.0,\n",
              " 16.0,\n",
              " 16.0,\n",
              " 17.0,\n",
              " 17.0,\n",
              " 17.0,\n",
              " 17.0,\n",
              " 17.0,\n",
              " 17.0,\n",
              " 17.0,\n",
              " 17.0,\n",
              " 17.0,\n",
              " 17.0,\n",
              " 17.0,\n",
              " 17.0,\n",
              " 17.0,\n",
              " 17.0,\n",
              " 17.0,\n",
              " 17.0,\n",
              " 17.0,\n",
              " 17.0,\n",
              " 17.0,\n",
              " 17.0,\n",
              " 17.0,\n",
              " 17.0,\n",
              " 17.0,\n",
              " 17.0,\n",
              " 17.0,\n",
              " 18.0,\n",
              " 18.0,\n",
              " 18.0,\n",
              " 18.0,\n",
              " 18.0,\n",
              " 18.0,\n",
              " 18.0,\n",
              " 18.0,\n",
              " 18.0,\n",
              " 18.0,\n",
              " 18.0,\n",
              " 18.0,\n",
              " 18.0,\n",
              " 18.0,\n",
              " 18.0,\n",
              " 18.0,\n",
              " 18.0,\n",
              " 18.0,\n",
              " 18.0,\n",
              " 18.0,\n",
              " 18.0,\n",
              " 18.0,\n",
              " 18.0,\n",
              " 18.0,\n",
              " 18.0,\n",
              " 18.0]"
            ]
          },
          "metadata": {},
          "execution_count": 54
        }
      ]
    },
    {
      "cell_type": "markdown",
      "source": [
        "# remove outlier using IQR"
      ],
      "metadata": {
        "id": "3TTG9K9Abo_T"
      }
    },
    {
      "cell_type": "code",
      "source": [
        "import numpy as np\n",
        "\n",
        "def cap_outliers_in_column(df_column):\n",
        "    data = sorted(df_column)\n",
        "    Q1 = np.percentile(data, 25)\n",
        "    Q3 = np.percentile(data, 75)\n",
        "    IQR = Q3 - Q1\n",
        "    low_limit = Q1 - 1.5 * IQR\n",
        "    up_limit = Q3 + 1.5 * IQR\n",
        "\n",
        "    mean_value = (up_limit + low_limit) / 2\n",
        "    return np.where(df_column < low_limit, low_limit,\n",
        "                    np.where(df_column > up_limit, up_limit, df_column))"
      ],
      "metadata": {
        "id": "0H9K78p-1Dkv"
      },
      "execution_count": null,
      "outputs": []
    },
    {
      "cell_type": "code",
      "source": [],
      "metadata": {
        "id": "IbJ12N5daKsQ"
      },
      "execution_count": null,
      "outputs": []
    },
    {
      "cell_type": "code",
      "source": [],
      "metadata": {
        "id": "WTRRudsfaXhg"
      },
      "execution_count": null,
      "outputs": []
    },
    {
      "cell_type": "code",
      "source": [
        "numerical_feat=df.select_dtypes(include=(np.number)).columns\n",
        "numerical_feat"
      ],
      "metadata": {
        "id": "eiAsxRJ1Sbzq",
        "colab": {
          "base_uri": "https://localhost:8080/"
        },
        "outputId": "ffa45eaa-785d-49f1-ad0d-a507cc19ac8b"
      },
      "execution_count": null,
      "outputs": [
        {
          "output_type": "execute_result",
          "data": {
            "text/plain": [
              "Index(['COURSE 1 MARKS', 'COURSE 2 MARKS', 'COURSE 3 MARKS', 'COURSE 4 MARKS',\n",
              "       'COURSE 5 MARKS', 'PERCENTILE'],\n",
              "      dtype='object')"
            ]
          },
          "metadata": {},
          "execution_count": 58
        }
      ]
    },
    {
      "cell_type": "code",
      "source": [
        "%matplotlib inline\n",
        "for col in numerical_feat:\n",
        "  df[col] = cap_outliers_in_column(df[col] )\n",
        "  sns.boxplot(x=df[col])\n",
        "  plt.show()"
      ],
      "metadata": {
        "colab": {
          "base_uri": "https://localhost:8080/",
          "height": 1000
        },
        "id": "aUh_rFAtVNLp",
        "outputId": "ebe419b3-ad87-42f2-980c-8674eb9b778f"
      },
      "execution_count": null,
      "outputs": [
        {
          "output_type": "display_data",
          "data": {
            "text/plain": [
              "<Figure size 640x480 with 1 Axes>"
            ],
            "image/png": "[encoded data removed]"
          },
          "metadata": {}
        },
        {
          "output_type": "display_data",
          "data": {
            "text/plain": [
              "<Figure size 640x480 with 1 Axes>"
            ],
            "image/png": "[encoded data removed]"
          },
          "metadata": {}
        },
        {
          "output_type": "display_data",
          "data": {
            "text/plain": [
              "<Figure size 640x480 with 1 Axes>"
            ],
            "image/png": "[encoded data removed]"
          },
          "metadata": {}
        },
        {
          "output_type": "display_data",
          "data": {
            "text/plain": [
              "<Figure size 640x480 with 1 Axes>"
            ],
            "image/png": "[encoded data removed]"
          },
          "metadata": {}
        },
        {
          "output_type": "display_data",
          "data": {
            "text/plain": [
              "<Figure size 640x480 with 1 Axes>"
            ],
            "image/png": "[encoded data removed]"
          },
          "metadata": {}
        },
        {
          "output_type": "display_data",
          "data": {
            "text/plain": [
              "<Figure size 640x480 with 1 Axes>"
            ],
            "image/png": "[encoded data removed]"
          },
          "metadata": {}
        }
      ]
    },
    {
      "cell_type": "code",
      "source": [
        "categorical_columns=df.select_dtypes(exclude=[np.number]).columns\n",
        "categorical_columns"
      ],
      "metadata": {
        "colab": {
          "base_uri": "https://localhost:8080/"
        },
        "id": "x48SVbiW1Do1",
        "outputId": "efdf1a53-276e-4f83-98e0-a8841c3cd471"
      },
      "execution_count": null,
      "outputs": [
        {
          "output_type": "execute_result",
          "data": {
            "text/plain": [
              "Index(['STUDENT_ID', 'GENDER', 'PLACEMENT', 'HONOR_OPTED_OR_NOT',\n",
              "       'EDUCATION_TYPE', 'ACADEMIC_PROGRAM', 'OVEARLL_GRADE'],\n",
              "      dtype='object')"
            ]
          },
          "metadata": {},
          "execution_count": 73
        }
      ]
    },
    {
      "cell_type": "code",
      "source": [
        "from sklearn.preprocessing import LabelEncoder\n",
        "\n",
        "# Create an instance of LabelEncoder\n",
        "label_encoder = LabelEncoder()\n",
        "\n",
        "# Iterate through each column in the list of categorical columns\n",
        "for col in categorical_columns:\n",
        "    # Apply label encoding to each value in the column\n",
        "    df[col] = label_encoder.fit_transform(df[col])\n",
        "\n",
        "# Print the encoded data\n",
        "print(\"Encoded data:\")\n",
        "print(df)\n"
      ],
      "metadata": {
        "id": "hwi9Gcm5SwV7",
        "colab": {
          "base_uri": "https://localhost:8080/"
        },
        "outputId": "e5d3969b-a765-4f42-ca41-4a3ec49b369a"
      },
      "execution_count": null,
      "outputs": [
        {
          "output_type": "stream",
          "name": "stdout",
          "text": [
            "Encoded data:\n",
            "       STUDENT_ID  GENDER  PLACEMENT  HONOR_OPTED_OR_NOT  EDUCATION_TYPE  \\\n",
            "0               0       0          1                   1               0   \n",
            "1               1       0          1                   1               0   \n",
            "2               2       1          0                   1               0   \n",
            "3               3       0          1                   1               0   \n",
            "4               4       1          1                   1               0   \n",
            "...           ...     ...        ...                 ...             ...   \n",
            "12406       12317       1          1                   1               0   \n",
            "12407       12318       1          1                   1               0   \n",
            "12408       12319       1          1                   0               0   \n",
            "12409       12320       0          1                   1               0   \n",
            "12410       12321       1          0                   0               0   \n",
            "\n",
            "       ACADEMIC_PROGRAM  COURSE 1 MARKS  COURSE 2 MARKS  COURSE 3 MARKS  \\\n",
            "0                    13            71.0            93.0            71.0   \n",
            "1                    13            97.0            38.0            86.0   \n",
            "2                    10            49.5            20.0            18.0   \n",
            "3                    13            65.0            35.0            76.0   \n",
            "4                    13            94.0            94.0            98.0   \n",
            "...                 ...             ...             ...             ...   \n",
            "12406                15            88.0            71.0            86.0   \n",
            "12407                13            49.5            39.0            44.0   \n",
            "12408                13            98.0            88.0            90.0   \n",
            "12409                13            60.0            80.0            51.0   \n",
            "12410                13            83.0            95.0            91.0   \n",
            "\n",
            "       COURSE 4 MARKS  COURSE 5 MARKS  PERCENTILE  OVEARLL_GRADE  \n",
            "0                93.0            79.0        91.0              1  \n",
            "1                98.0            78.0        92.0              3  \n",
            "2                43.0            22.0        31.5              0  \n",
            "3                80.0            48.0        67.0              1  \n",
            "4               100.0            71.0        98.0              1  \n",
            "...               ...             ...         ...            ...  \n",
            "12406            87.0            65.0        88.0              1  \n",
            "12407            32.5             2.0        31.5              1  \n",
            "12408            81.0            87.0        95.0              1  \n",
            "12409            32.5            42.0        50.0              1  \n",
            "12410            79.0            47.0        89.0              3  \n",
            "\n",
            "[12322 rows x 13 columns]\n"
          ]
        }
      ]
    },
    {
      "cell_type": "code",
      "source": [],
      "metadata": {
        "id": "98mB6PtzSwhM"
      },
      "execution_count": null,
      "outputs": []
    },
    {
      "cell_type": "code",
      "source": [],
      "metadata": {
        "id": "BNF2XfE2Swrp"
      },
      "execution_count": null,
      "outputs": []
    }
  ]
}