{
  "cells": [
    {
      "cell_type": "code",
      "execution_count": 1,
      "id": "3101fafc",
      "metadata": {
        "id": "3101fafc"
      },
      "outputs": [],
      "source": [
        "import pandas as pd\n",
        "from sklearn.preprocessing import MinMaxScaler\n",
        "from sklearn.model_selection import train_test_split\n",
        "from sklearn.metrics import confusion_matrix, classification_report\n",
        "from sklearn.naive_bayes import GaussianNB"
      ]
    },
    {
      "cell_type": "code",
      "execution_count": 5,
      "id": "503be5d4",
      "metadata": {
        "id": "503be5d4"
      },
      "outputs": [],
      "source": [
        "df=pd.read_csv(\"/content/Iris - Iris.csv\")"
      ]
    },
    {
      "cell_type": "code",
      "execution_count": 6,
      "id": "403eb0b0",
      "metadata": {
        "id": "403eb0b0",
        "outputId": "694040c2-94a6-42c6-9c98-1bf26463d07e",
        "colab": {
          "base_uri": "https://localhost:8080/",
          "height": 206
        }
      },
      "outputs": [
        {
          "output_type": "execute_result",
          "data": {
            "text/plain": [
              "   Id  SepalLengthCm  SepalWidthCm  PetalLengthCm  PetalWidthCm      Species\n",
              "0   1            5.1           3.5            1.4           0.2  Iris-setosa\n",
              "1   2            4.9           3.0            1.4           0.2  Iris-setosa\n",
              "2   3            4.7           3.2            1.3           0.2  Iris-setosa\n",
              "3   4            4.6           3.1            1.5           0.2  Iris-setosa\n",
              "4   5            5.0           3.6            1.4           0.2  Iris-setosa"
            ],
            "text/html": [
              "\n",
              "  <div id=\"df-b59fc743-df13-4929-99f7-b1f1cf7bde95\" class=\"colab-df-container\">\n",
              "    <div>\n",
              "<style scoped>\n",
              "    .dataframe tbody tr th:only-of-type {\n",
              "        vertical-align: middle;\n",
              "    }\n",
              "\n",
              "    .dataframe tbody tr th {\n",
              "        vertical-align: top;\n",
              "    }\n",
              "\n",
              "    .dataframe thead th {\n",
              "        text-align: right;\n",
              "    }\n",
              "</style>\n",
              "<table border=\"1\" class=\"dataframe\">\n",
              "  <thead>\n",
              "    <tr style=\"text-align: right;\">\n",
              "      <th></th>\n",
              "      <th>Id</th>\n",
              "      <th>SepalLengthCm</th>\n",
              "      <th>SepalWidthCm</th>\n",
              "      <th>PetalLengthCm</th>\n",
              "      <th>PetalWidthCm</th>\n",
              "      <th>Species</th>\n",
              "    </tr>\n",
              "  </thead>\n",
              "  <tbody>\n",
              "    <tr>\n",
              "      <th>0</th>\n",
              "      <td>1</td>\n",
              "      <td>5.1</td>\n",
              "      <td>3.5</td>\n",
              "      <td>1.4</td>\n",
              "      <td>0.2</td>\n",
              "      <td>Iris-setosa</td>\n",
              "    </tr>\n",
              "    <tr>\n",
              "      <th>1</th>\n",
              "      <td>2</td>\n",
              "      <td>4.9</td>\n",
              "      <td>3.0</td>\n",
              "      <td>1.4</td>\n",
              "      <td>0.2</td>\n",
              "      <td>Iris-setosa</td>\n",
              "    </tr>\n",
              "    <tr>\n",
              "      <th>2</th>\n",
              "      <td>3</td>\n",
              "      <td>4.7</td>\n",
              "      <td>3.2</td>\n",
              "      <td>1.3</td>\n",
              "      <td>0.2</td>\n",
              "      <td>Iris-setosa</td>\n",
              "    </tr>\n",
              "    <tr>\n",
              "      <th>3</th>\n",
              "      <td>4</td>\n",
              "      <td>4.6</td>\n",
              "      <td>3.1</td>\n",
              "      <td>1.5</td>\n",
              "      <td>0.2</td>\n",
              "      <td>Iris-setosa</td>\n",
              "    </tr>\n",
              "    <tr>\n",
              "      <th>4</th>\n",
              "      <td>5</td>\n",
              "      <td>5.0</td>\n",
              "      <td>3.6</td>\n",
              "      <td>1.4</td>\n",
              "      <td>0.2</td>\n",
              "      <td>Iris-setosa</td>\n",
              "    </tr>\n",
              "  </tbody>\n",
              "</table>\n",
              "</div>\n",
              "    <div class=\"colab-df-buttons\">\n",
              "\n",
              "  <div class=\"colab-df-container\">\n",
              "    <button class=\"colab-df-convert\" onclick=\"convertToInteractive('df-b59fc743-df13-4929-99f7-b1f1cf7bde95')\"\n",
              "            title=\"Convert this dataframe to an interactive table.\"\n",
              "            style=\"display:none;\">\n",
              "\n",
              "  <svg xmlns=\"http://www.w3.org/2000/svg\" height=\"24px\" viewBox=\"0 -960 960 960\">\n",
              "    <path d=\"M120-120v-720h720v720H120Zm60-500h600v-160H180v160Zm220 220h160v-160H400v160Zm0 220h160v-160H400v160ZM180-400h160v-160H180v160Zm440 0h160v-160H620v160ZM180-180h160v-160H180v160Zm440 0h160v-160H620v160Z\"/>\n",
              "  </svg>\n",
              "    </button>\n",
              "\n",
              "  <style>\n",
              "    .colab-df-container {\n",
              "      display:flex;\n",
              "      gap: 12px;\n",
              "    }\n",
              "\n",
              "    .colab-df-convert {\n",
              "      background-color: #E8F0FE;\n",
              "      border: none;\n",
              "      border-radius: 50%;\n",
              "      cursor: pointer;\n",
              "      display: none;\n",
              "      fill: #1967D2;\n",
              "      height: 32px;\n",
              "      padding: 0 0 0 0;\n",
              "      width: 32px;\n",
              "    }\n",
              "\n",
              "    .colab-df-convert:hover {\n",
              "      background-color: #E2EBFA;\n",
              "      box-shadow: 0px 1px 2px rgba(60, 64, 67, 0.3), 0px 1px 3px 1px rgba(60, 64, 67, 0.15);\n",
              "      fill: #174EA6;\n",
              "    }\n",
              "\n",
              "    .colab-df-buttons div {\n",
              "      margin-bottom: 4px;\n",
              "    }\n",
              "\n",
              "    [theme=dark] .colab-df-convert {\n",
              "      background-color: #3B4455;\n",
              "      fill: #D2E3FC;\n",
              "    }\n",
              "\n",
              "    [theme=dark] .colab-df-convert:hover {\n",
              "      background-color: #434B5C;\n",
              "      box-shadow: 0px 1px 3px 1px rgba(0, 0, 0, 0.15);\n",
              "      filter: drop-shadow(0px 1px 2px rgba(0, 0, 0, 0.3));\n",
              "      fill: #FFFFFF;\n",
              "    }\n",
              "  </style>\n",
              "\n",
              "    <script>\n",
              "      const buttonEl =\n",
              "        document.querySelector('#df-b59fc743-df13-4929-99f7-b1f1cf7bde95 button.colab-df-convert');\n",
              "      buttonEl.style.display =\n",
              "        google.colab.kernel.accessAllowed ? 'block' : 'none';\n",
              "\n",
              "      async function convertToInteractive(key) {\n",
              "        const element = document.querySelector('#df-b59fc743-df13-4929-99f7-b1f1cf7bde95');\n",
              "        const dataTable =\n",
              "          await google.colab.kernel.invokeFunction('convertToInteractive',\n",
              "                                                    [key], {});\n",
              "        if (!dataTable) return;\n",
              "\n",
              "        const docLinkHtml = 'Like what you see? Visit the ' +\n",
              "          '<a target=\"_blank\" href=https://colab.research.google.com/notebooks/data_table.ipynb>data table notebook</a>'\n",
              "          + ' to learn more about interactive tables.';\n",
              "        element.innerHTML = '';\n",
              "        dataTable['output_type'] = 'display_data';\n",
              "        await google.colab.output.renderOutput(dataTable, element);\n",
              "        const docLink = document.createElement('div');\n",
              "        docLink.innerHTML = docLinkHtml;\n",
              "        element.appendChild(docLink);\n",
              "      }\n",
              "    </script>\n",
              "  </div>\n",
              "\n",
              "\n",
              "<div id=\"df-25bbbbdc-331d-4732-a72b-d548fb2a41a6\">\n",
              "  <button class=\"colab-df-quickchart\" onclick=\"quickchart('df-25bbbbdc-331d-4732-a72b-d548fb2a41a6')\"\n",
              "            title=\"Suggest charts\"\n",
              "            style=\"display:none;\">\n",
              "\n",
              "<svg xmlns=\"http://www.w3.org/2000/svg\" height=\"24px\"viewBox=\"0 0 24 24\"\n",
              "     width=\"24px\">\n",
              "    <g>\n",
              "        <path d=\"M19 3H5c-1.1 0-2 .9-2 2v14c0 1.1.9 2 2 2h14c1.1 0 2-.9 2-2V5c0-1.1-.9-2-2-2zM9 17H7v-7h2v7zm4 0h-2V7h2v10zm4 0h-2v-4h2v4z\"/>\n",
              "    </g>\n",
              "</svg>\n",
              "  </button>\n",
              "\n",
              "<style>\n",
              "  .colab-df-quickchart {\n",
              "      --bg-color: #E8F0FE;\n",
              "      --fill-color: #1967D2;\n",
              "      --hover-bg-color: #E2EBFA;\n",
              "      --hover-fill-color: #174EA6;\n",
              "      --disabled-fill-color: #AAA;\n",
              "      --disabled-bg-color: #DDD;\n",
              "  }\n",
              "\n",
              "  [theme=dark] .colab-df-quickchart {\n",
              "      --bg-color: #3B4455;\n",
              "      --fill-color: #D2E3FC;\n",
              "      --hover-bg-color: #434B5C;\n",
              "      --hover-fill-color: #FFFFFF;\n",
              "      --disabled-bg-color: #3B4455;\n",
              "      --disabled-fill-color: #666;\n",
              "  }\n",
              "\n",
              "  .colab-df-quickchart {\n",
              "    background-color: var(--bg-color);\n",
              "    border: none;\n",
              "    border-radius: 50%;\n",
              "    cursor: pointer;\n",
              "    display: none;\n",
              "    fill: var(--fill-color);\n",
              "    height: 32px;\n",
              "    padding: 0;\n",
              "    width: 32px;\n",
              "  }\n",
              "\n",
              "  .colab-df-quickchart:hover {\n",
              "    background-color: var(--hover-bg-color);\n",
              "    box-shadow: 0 1px 2px rgba(60, 64, 67, 0.3), 0 1px 3px 1px rgba(60, 64, 67, 0.15);\n",
              "    fill: var(--button-hover-fill-color);\n",
              "  }\n",
              "\n",
              "  .colab-df-quickchart-complete:disabled,\n",
              "  .colab-df-quickchart-complete:disabled:hover {\n",
              "    background-color: var(--disabled-bg-color);\n",
              "    fill: var(--disabled-fill-color);\n",
              "    box-shadow: none;\n",
              "  }\n",
              "\n",
              "  .colab-df-spinner {\n",
              "    border: 2px solid var(--fill-color);\n",
              "    border-color: transparent;\n",
              "    border-bottom-color: var(--fill-color);\n",
              "    animation:\n",
              "      spin 1s steps(1) infinite;\n",
              "  }\n",
              "\n",
              "  @keyframes spin {\n",
              "    0% {\n",
              "      border-color: transparent;\n",
              "      border-bottom-color: var(--fill-color);\n",
              "      border-left-color: var(--fill-color);\n",
              "    }\n",
              "    20% {\n",
              "      border-color: transparent;\n",
              "      border-left-color: var(--fill-color);\n",
              "      border-top-color: var(--fill-color);\n",
              "    }\n",
              "    30% {\n",
              "      border-color: transparent;\n",
              "      border-left-color: var(--fill-color);\n",
              "      border-top-color: var(--fill-color);\n",
              "      border-right-color: var(--fill-color);\n",
              "    }\n",
              "    40% {\n",
              "      border-color: transparent;\n",
              "      border-right-color: var(--fill-color);\n",
              "      border-top-color: var(--fill-color);\n",
              "    }\n",
              "    60% {\n",
              "      border-color: transparent;\n",
              "      border-right-color: var(--fill-color);\n",
              "    }\n",
              "    80% {\n",
              "      border-color: transparent;\n",
              "      border-right-color: var(--fill-color);\n",
              "      border-bottom-color: var(--fill-color);\n",
              "    }\n",
              "    90% {\n",
              "      border-color: transparent;\n",
              "      border-bottom-color: var(--fill-color);\n",
              "    }\n",
              "  }\n",
              "</style>\n",
              "\n",
              "  <script>\n",
              "    async function quickchart(key) {\n",
              "      const quickchartButtonEl =\n",
              "        document.querySelector('#' + key + ' button');\n",
              "      quickchartButtonEl.disabled = true;  // To prevent multiple clicks.\n",
              "      quickchartButtonEl.classList.add('colab-df-spinner');\n",
              "      try {\n",
              "        const charts = await google.colab.kernel.invokeFunction(\n",
              "            'suggestCharts', [key], {});\n",
              "      } catch (error) {\n",
              "        console.error('Error during call to suggestCharts:', error);\n",
              "      }\n",
              "      quickchartButtonEl.classList.remove('colab-df-spinner');\n",
              "      quickchartButtonEl.classList.add('colab-df-quickchart-complete');\n",
              "    }\n",
              "    (() => {\n",
              "      let quickchartButtonEl =\n",
              "        document.querySelector('#df-25bbbbdc-331d-4732-a72b-d548fb2a41a6 button');\n",
              "      quickchartButtonEl.style.display =\n",
              "        google.colab.kernel.accessAllowed ? 'block' : 'none';\n",
              "    })();\n",
              "  </script>\n",
              "</div>\n",
              "    </div>\n",
              "  </div>\n"
            ],
            "application/vnd.google.colaboratory.intrinsic+json": {
              "type": "dataframe",
              "variable_name": "df",
              "summary": "{\n  \"name\": \"df\",\n  \"rows\": 150,\n  \"fields\": [\n    {\n      \"column\": \"Id\",\n      \"properties\": {\n        \"dtype\": \"number\",\n        \"std\": 43,\n        \"min\": 1,\n        \"max\": 150,\n        \"num_unique_values\": 150,\n        \"samples\": [\n          74,\n          19,\n          119\n        ],\n        \"semantic_type\": \"\",\n        \"description\": \"\"\n      }\n    },\n    {\n      \"column\": \"SepalLengthCm\",\n      \"properties\": {\n        \"dtype\": \"number\",\n        \"std\": 0.828066127977863,\n        \"min\": 4.3,\n        \"max\": 7.9,\n        \"num_unique_values\": 35,\n        \"samples\": [\n          6.2,\n          4.5,\n          5.6\n        ],\n        \"semantic_type\": \"\",\n        \"description\": \"\"\n      }\n    },\n    {\n      \"column\": \"SepalWidthCm\",\n      \"properties\": {\n        \"dtype\": \"number\",\n        \"std\": 0.4335943113621737,\n        \"min\": 2.0,\n        \"max\": 4.4,\n        \"num_unique_values\": 23,\n        \"samples\": [\n          2.3,\n          4.0,\n          3.5\n        ],\n        \"semantic_type\": \"\",\n        \"description\": \"\"\n      }\n    },\n    {\n      \"column\": \"PetalLengthCm\",\n      \"properties\": {\n        \"dtype\": \"number\",\n        \"std\": 1.7644204199522626,\n        \"min\": 1.0,\n        \"max\": 6.9,\n        \"num_unique_values\": 43,\n        \"samples\": [\n          6.7,\n          3.8,\n          3.7\n        ],\n        \"semantic_type\": \"\",\n        \"description\": \"\"\n      }\n    },\n    {\n      \"column\": \"PetalWidthCm\",\n      \"properties\": {\n        \"dtype\": \"number\",\n        \"std\": 0.7631607417008411,\n        \"min\": 0.1,\n        \"max\": 2.5,\n        \"num_unique_values\": 22,\n        \"samples\": [\n          0.2,\n          1.2,\n          1.3\n        ],\n        \"semantic_type\": \"\",\n        \"description\": \"\"\n      }\n    },\n    {\n      \"column\": \"Species\",\n      \"properties\": {\n        \"dtype\": \"category\",\n        \"num_unique_values\": 3,\n        \"samples\": [\n          \"Iris-setosa\",\n          \"Iris-versicolor\",\n          \"Iris-virginica\"\n        ],\n        \"semantic_type\": \"\",\n        \"description\": \"\"\n      }\n    }\n  ]\n}"
            }
          },
          "metadata": {},
          "execution_count": 6
        }
      ],
      "source": [
        "df.head()"
      ]
    },
    {
      "cell_type": "code",
      "execution_count": 7,
      "id": "b28b998e",
      "metadata": {
        "id": "b28b998e"
      },
      "outputs": [],
      "source": [
        "X=df.drop([\"Species\"] , axis=1)\n",
        "Y=df[\"Species\"]"
      ]
    },
    {
      "cell_type": "code",
      "execution_count": null,
      "id": "c29a346f",
      "metadata": {
        "id": "c29a346f"
      },
      "outputs": [],
      "source": [
        "from sklearn.preprocessing import MinMaxScaler"
      ]
    },
    {
      "cell_type": "code",
      "execution_count": 8,
      "id": "15f0ec35",
      "metadata": {
        "id": "15f0ec35",
        "outputId": "bed86cb4-c029-45a0-dd5a-fe16fb68665f",
        "colab": {
          "base_uri": "https://localhost:8080/"
        }
      },
      "outputs": [
        {
          "output_type": "execute_result",
          "data": {
            "text/plain": [
              "array([[0.        , 0.22222222, 0.625     , 0.06779661, 0.04166667],\n",
              "       [0.00671141, 0.16666667, 0.41666667, 0.06779661, 0.04166667],\n",
              "       [0.01342282, 0.11111111, 0.5       , 0.05084746, 0.04166667],\n",
              "       [0.02013423, 0.08333333, 0.45833333, 0.08474576, 0.04166667],\n",
              "       [0.02684564, 0.19444444, 0.66666667, 0.06779661, 0.04166667],\n",
              "       [0.03355705, 0.30555556, 0.79166667, 0.11864407, 0.125     ],\n",
              "       [0.04026846, 0.08333333, 0.58333333, 0.06779661, 0.08333333],\n",
              "       [0.04697987, 0.19444444, 0.58333333, 0.08474576, 0.04166667],\n",
              "       [0.05369128, 0.02777778, 0.375     , 0.06779661, 0.04166667],\n",
              "       [0.06040268, 0.16666667, 0.45833333, 0.08474576, 0.        ],\n",
              "       [0.06711409, 0.30555556, 0.70833333, 0.08474576, 0.04166667],\n",
              "       [0.0738255 , 0.13888889, 0.58333333, 0.10169492, 0.04166667],\n",
              "       [0.08053691, 0.13888889, 0.41666667, 0.06779661, 0.        ],\n",
              "       [0.08724832, 0.        , 0.41666667, 0.01694915, 0.        ],\n",
              "       [0.09395973, 0.41666667, 0.83333333, 0.03389831, 0.04166667],\n",
              "       [0.10067114, 0.38888889, 1.        , 0.08474576, 0.125     ],\n",
              "       [0.10738255, 0.30555556, 0.79166667, 0.05084746, 0.125     ],\n",
              "       [0.11409396, 0.22222222, 0.625     , 0.06779661, 0.08333333],\n",
              "       [0.12080537, 0.38888889, 0.75      , 0.11864407, 0.08333333],\n",
              "       [0.12751678, 0.22222222, 0.75      , 0.08474576, 0.08333333],\n",
              "       [0.13422819, 0.30555556, 0.58333333, 0.11864407, 0.04166667],\n",
              "       [0.1409396 , 0.22222222, 0.70833333, 0.08474576, 0.125     ],\n",
              "       [0.14765101, 0.08333333, 0.66666667, 0.        , 0.04166667],\n",
              "       [0.15436242, 0.22222222, 0.54166667, 0.11864407, 0.16666667],\n",
              "       [0.16107383, 0.13888889, 0.58333333, 0.15254237, 0.04166667],\n",
              "       [0.16778523, 0.19444444, 0.41666667, 0.10169492, 0.04166667],\n",
              "       [0.17449664, 0.19444444, 0.58333333, 0.10169492, 0.125     ],\n",
              "       [0.18120805, 0.25      , 0.625     , 0.08474576, 0.04166667],\n",
              "       [0.18791946, 0.25      , 0.58333333, 0.06779661, 0.04166667],\n",
              "       [0.19463087, 0.11111111, 0.5       , 0.10169492, 0.04166667],\n",
              "       [0.20134228, 0.13888889, 0.45833333, 0.10169492, 0.04166667],\n",
              "       [0.20805369, 0.30555556, 0.58333333, 0.08474576, 0.125     ],\n",
              "       [0.2147651 , 0.25      , 0.875     , 0.08474576, 0.        ],\n",
              "       [0.22147651, 0.33333333, 0.91666667, 0.06779661, 0.04166667],\n",
              "       [0.22818792, 0.16666667, 0.45833333, 0.08474576, 0.        ],\n",
              "       [0.23489933, 0.19444444, 0.5       , 0.03389831, 0.04166667],\n",
              "       [0.24161074, 0.33333333, 0.625     , 0.05084746, 0.04166667],\n",
              "       [0.24832215, 0.16666667, 0.45833333, 0.08474576, 0.        ],\n",
              "       [0.25503356, 0.02777778, 0.41666667, 0.05084746, 0.04166667],\n",
              "       [0.26174497, 0.22222222, 0.58333333, 0.08474576, 0.04166667],\n",
              "       [0.26845638, 0.19444444, 0.625     , 0.05084746, 0.08333333],\n",
              "       [0.27516779, 0.05555556, 0.125     , 0.05084746, 0.08333333],\n",
              "       [0.28187919, 0.02777778, 0.5       , 0.05084746, 0.04166667],\n",
              "       [0.2885906 , 0.19444444, 0.625     , 0.10169492, 0.20833333],\n",
              "       [0.29530201, 0.22222222, 0.75      , 0.15254237, 0.125     ],\n",
              "       [0.30201342, 0.13888889, 0.41666667, 0.06779661, 0.08333333],\n",
              "       [0.30872483, 0.22222222, 0.75      , 0.10169492, 0.04166667],\n",
              "       [0.31543624, 0.08333333, 0.5       , 0.06779661, 0.04166667],\n",
              "       [0.32214765, 0.27777778, 0.70833333, 0.08474576, 0.04166667],\n",
              "       [0.32885906, 0.19444444, 0.54166667, 0.06779661, 0.04166667],\n",
              "       [0.33557047, 0.75      , 0.5       , 0.62711864, 0.54166667],\n",
              "       [0.34228188, 0.58333333, 0.5       , 0.59322034, 0.58333333],\n",
              "       [0.34899329, 0.72222222, 0.45833333, 0.66101695, 0.58333333],\n",
              "       [0.3557047 , 0.33333333, 0.125     , 0.50847458, 0.5       ],\n",
              "       [0.36241611, 0.61111111, 0.33333333, 0.61016949, 0.58333333],\n",
              "       [0.36912752, 0.38888889, 0.33333333, 0.59322034, 0.5       ],\n",
              "       [0.37583893, 0.55555556, 0.54166667, 0.62711864, 0.625     ],\n",
              "       [0.38255034, 0.16666667, 0.16666667, 0.38983051, 0.375     ],\n",
              "       [0.38926174, 0.63888889, 0.375     , 0.61016949, 0.5       ],\n",
              "       [0.39597315, 0.25      , 0.29166667, 0.49152542, 0.54166667],\n",
              "       [0.40268456, 0.19444444, 0.        , 0.42372881, 0.375     ],\n",
              "       [0.40939597, 0.44444444, 0.41666667, 0.54237288, 0.58333333],\n",
              "       [0.41610738, 0.47222222, 0.08333333, 0.50847458, 0.375     ],\n",
              "       [0.42281879, 0.5       , 0.375     , 0.62711864, 0.54166667],\n",
              "       [0.4295302 , 0.36111111, 0.375     , 0.44067797, 0.5       ],\n",
              "       [0.43624161, 0.66666667, 0.45833333, 0.57627119, 0.54166667],\n",
              "       [0.44295302, 0.36111111, 0.41666667, 0.59322034, 0.58333333],\n",
              "       [0.44966443, 0.41666667, 0.29166667, 0.52542373, 0.375     ],\n",
              "       [0.45637584, 0.52777778, 0.08333333, 0.59322034, 0.58333333],\n",
              "       [0.46308725, 0.36111111, 0.20833333, 0.49152542, 0.41666667],\n",
              "       [0.46979866, 0.44444444, 0.5       , 0.6440678 , 0.70833333],\n",
              "       [0.47651007, 0.5       , 0.33333333, 0.50847458, 0.5       ],\n",
              "       [0.48322148, 0.55555556, 0.20833333, 0.66101695, 0.58333333],\n",
              "       [0.48993289, 0.5       , 0.33333333, 0.62711864, 0.45833333],\n",
              "       [0.4966443 , 0.58333333, 0.375     , 0.55932203, 0.5       ],\n",
              "       [0.5033557 , 0.63888889, 0.41666667, 0.57627119, 0.54166667],\n",
              "       [0.51006711, 0.69444444, 0.33333333, 0.6440678 , 0.54166667],\n",
              "       [0.51677852, 0.66666667, 0.41666667, 0.6779661 , 0.66666667],\n",
              "       [0.52348993, 0.47222222, 0.375     , 0.59322034, 0.58333333],\n",
              "       [0.53020134, 0.38888889, 0.25      , 0.42372881, 0.375     ],\n",
              "       [0.53691275, 0.33333333, 0.16666667, 0.47457627, 0.41666667],\n",
              "       [0.54362416, 0.33333333, 0.16666667, 0.45762712, 0.375     ],\n",
              "       [0.55033557, 0.41666667, 0.29166667, 0.49152542, 0.45833333],\n",
              "       [0.55704698, 0.47222222, 0.29166667, 0.69491525, 0.625     ],\n",
              "       [0.56375839, 0.30555556, 0.41666667, 0.59322034, 0.58333333],\n",
              "       [0.5704698 , 0.47222222, 0.58333333, 0.59322034, 0.625     ],\n",
              "       [0.57718121, 0.66666667, 0.45833333, 0.62711864, 0.58333333],\n",
              "       [0.58389262, 0.55555556, 0.125     , 0.57627119, 0.5       ],\n",
              "       [0.59060403, 0.36111111, 0.41666667, 0.52542373, 0.5       ],\n",
              "       [0.59731544, 0.33333333, 0.20833333, 0.50847458, 0.5       ],\n",
              "       [0.60402685, 0.33333333, 0.25      , 0.57627119, 0.45833333],\n",
              "       [0.61073826, 0.5       , 0.41666667, 0.61016949, 0.54166667],\n",
              "       [0.61744966, 0.41666667, 0.25      , 0.50847458, 0.45833333],\n",
              "       [0.62416107, 0.19444444, 0.125     , 0.38983051, 0.375     ],\n",
              "       [0.63087248, 0.36111111, 0.29166667, 0.54237288, 0.5       ],\n",
              "       [0.63758389, 0.38888889, 0.41666667, 0.54237288, 0.45833333],\n",
              "       [0.6442953 , 0.38888889, 0.375     , 0.54237288, 0.5       ],\n",
              "       [0.65100671, 0.52777778, 0.375     , 0.55932203, 0.5       ],\n",
              "       [0.65771812, 0.22222222, 0.20833333, 0.33898305, 0.41666667],\n",
              "       [0.66442953, 0.38888889, 0.33333333, 0.52542373, 0.5       ],\n",
              "       [0.67114094, 0.55555556, 0.54166667, 0.84745763, 1.        ],\n",
              "       [0.67785235, 0.41666667, 0.29166667, 0.69491525, 0.75      ],\n",
              "       [0.68456376, 0.77777778, 0.41666667, 0.83050847, 0.83333333],\n",
              "       [0.69127517, 0.55555556, 0.375     , 0.77966102, 0.70833333],\n",
              "       [0.69798658, 0.61111111, 0.41666667, 0.81355932, 0.875     ],\n",
              "       [0.70469799, 0.91666667, 0.41666667, 0.94915254, 0.83333333],\n",
              "       [0.7114094 , 0.16666667, 0.20833333, 0.59322034, 0.66666667],\n",
              "       [0.71812081, 0.83333333, 0.375     , 0.89830508, 0.70833333],\n",
              "       [0.72483221, 0.66666667, 0.20833333, 0.81355932, 0.70833333],\n",
              "       [0.73154362, 0.80555556, 0.66666667, 0.86440678, 1.        ],\n",
              "       [0.73825503, 0.61111111, 0.5       , 0.69491525, 0.79166667],\n",
              "       [0.74496644, 0.58333333, 0.29166667, 0.72881356, 0.75      ],\n",
              "       [0.75167785, 0.69444444, 0.41666667, 0.76271186, 0.83333333],\n",
              "       [0.75838926, 0.38888889, 0.20833333, 0.6779661 , 0.79166667],\n",
              "       [0.76510067, 0.41666667, 0.33333333, 0.69491525, 0.95833333],\n",
              "       [0.77181208, 0.58333333, 0.5       , 0.72881356, 0.91666667],\n",
              "       [0.77852349, 0.61111111, 0.41666667, 0.76271186, 0.70833333],\n",
              "       [0.7852349 , 0.94444444, 0.75      , 0.96610169, 0.875     ],\n",
              "       [0.79194631, 0.94444444, 0.25      , 1.        , 0.91666667],\n",
              "       [0.79865772, 0.47222222, 0.08333333, 0.6779661 , 0.58333333],\n",
              "       [0.80536913, 0.72222222, 0.5       , 0.79661017, 0.91666667],\n",
              "       [0.81208054, 0.36111111, 0.33333333, 0.66101695, 0.79166667],\n",
              "       [0.81879195, 0.94444444, 0.33333333, 0.96610169, 0.79166667],\n",
              "       [0.82550336, 0.55555556, 0.29166667, 0.66101695, 0.70833333],\n",
              "       [0.83221477, 0.66666667, 0.54166667, 0.79661017, 0.83333333],\n",
              "       [0.83892617, 0.80555556, 0.5       , 0.84745763, 0.70833333],\n",
              "       [0.84563758, 0.52777778, 0.33333333, 0.6440678 , 0.70833333],\n",
              "       [0.85234899, 0.5       , 0.41666667, 0.66101695, 0.70833333],\n",
              "       [0.8590604 , 0.58333333, 0.33333333, 0.77966102, 0.83333333],\n",
              "       [0.86577181, 0.80555556, 0.41666667, 0.81355932, 0.625     ],\n",
              "       [0.87248322, 0.86111111, 0.33333333, 0.86440678, 0.75      ],\n",
              "       [0.87919463, 1.        , 0.75      , 0.91525424, 0.79166667],\n",
              "       [0.88590604, 0.58333333, 0.33333333, 0.77966102, 0.875     ],\n",
              "       [0.89261745, 0.55555556, 0.33333333, 0.69491525, 0.58333333],\n",
              "       [0.89932886, 0.5       , 0.25      , 0.77966102, 0.54166667],\n",
              "       [0.90604027, 0.94444444, 0.41666667, 0.86440678, 0.91666667],\n",
              "       [0.91275168, 0.55555556, 0.58333333, 0.77966102, 0.95833333],\n",
              "       [0.91946309, 0.58333333, 0.45833333, 0.76271186, 0.70833333],\n",
              "       [0.9261745 , 0.47222222, 0.41666667, 0.6440678 , 0.70833333],\n",
              "       [0.93288591, 0.72222222, 0.45833333, 0.74576271, 0.83333333],\n",
              "       [0.93959732, 0.66666667, 0.45833333, 0.77966102, 0.95833333],\n",
              "       [0.94630872, 0.72222222, 0.45833333, 0.69491525, 0.91666667],\n",
              "       [0.95302013, 0.41666667, 0.29166667, 0.69491525, 0.75      ],\n",
              "       [0.95973154, 0.69444444, 0.5       , 0.83050847, 0.91666667],\n",
              "       [0.96644295, 0.66666667, 0.54166667, 0.79661017, 1.        ],\n",
              "       [0.97315436, 0.66666667, 0.41666667, 0.71186441, 0.91666667],\n",
              "       [0.97986577, 0.55555556, 0.20833333, 0.6779661 , 0.75      ],\n",
              "       [0.98657718, 0.61111111, 0.41666667, 0.71186441, 0.79166667],\n",
              "       [0.99328859, 0.52777778, 0.58333333, 0.74576271, 0.91666667],\n",
              "       [1.        , 0.44444444, 0.41666667, 0.69491525, 0.70833333]])"
            ]
          },
          "metadata": {},
          "execution_count": 8
        }
      ],
      "source": [
        "scaler=MinMaxScaler()\n",
        "X_scaled=scaler.fit_transform(X)\n",
        "X_scaled"
      ]
    },
    {
      "cell_type": "code",
      "execution_count": null,
      "id": "88e7dc80",
      "metadata": {
        "id": "88e7dc80"
      },
      "outputs": [],
      "source": [
        "from sklearn.model_selection import train_test_split"
      ]
    },
    {
      "cell_type": "code",
      "execution_count": 9,
      "id": "fef295c5",
      "metadata": {
        "id": "fef295c5"
      },
      "outputs": [],
      "source": [
        "X_train,X_test,Y_train,Y_test=train_test_split(X_scaled,Y,test_size=0.2,random_state=42)"
      ]
    },
    {
      "cell_type": "code",
      "execution_count": null,
      "id": "6de83f28",
      "metadata": {
        "id": "6de83f28"
      },
      "outputs": [],
      "source": [
        "from sklearn.naive_bayes import GaussianNB"
      ]
    },
    {
      "cell_type": "code",
      "execution_count": 10,
      "id": "9880a0ef",
      "metadata": {
        "id": "9880a0ef",
        "colab": {
          "base_uri": "https://localhost:8080/",
          "height": 74
        },
        "outputId": "a0312b1e-7da3-450a-d0f5-1dc9d1f702b4"
      },
      "outputs": [
        {
          "output_type": "execute_result",
          "data": {
            "text/plain": [
              "GaussianNB()"
            ],
            "text/html": [
              "<style>#sk-container-id-1 {color: black;background-color: white;}#sk-container-id-1 pre{padding: 0;}#sk-container-id-1 div.sk-toggleable {background-color: white;}#sk-container-id-1 label.sk-toggleable__label {cursor: pointer;display: block;width: 100%;margin-bottom: 0;padding: 0.3em;box-sizing: border-box;text-align: center;}#sk-container-id-1 label.sk-toggleable__label-arrow:before {content: \"▸\";float: left;margin-right: 0.25em;color: #696969;}#sk-container-id-1 label.sk-toggleable__label-arrow:hover:before {color: black;}#sk-container-id-1 div.sk-estimator:hover label.sk-toggleable__label-arrow:before {color: black;}#sk-container-id-1 div.sk-toggleable__content {max-height: 0;max-width: 0;overflow: hidden;text-align: left;background-color: #f0f8ff;}#sk-container-id-1 div.sk-toggleable__content pre {margin: 0.2em;color: black;border-radius: 0.25em;background-color: #f0f8ff;}#sk-container-id-1 input.sk-toggleable__control:checked~div.sk-toggleable__content {max-height: 200px;max-width: 100%;overflow: auto;}#sk-container-id-1 input.sk-toggleable__control:checked~label.sk-toggleable__label-arrow:before {content: \"▾\";}#sk-container-id-1 div.sk-estimator input.sk-toggleable__control:checked~label.sk-toggleable__label {background-color: #d4ebff;}#sk-container-id-1 div.sk-label input.sk-toggleable__control:checked~label.sk-toggleable__label {background-color: #d4ebff;}#sk-container-id-1 input.sk-hidden--visually {border: 0;clip: rect(1px 1px 1px 1px);clip: rect(1px, 1px, 1px, 1px);height: 1px;margin: -1px;overflow: hidden;padding: 0;position: absolute;width: 1px;}#sk-container-id-1 div.sk-estimator {font-family: monospace;background-color: #f0f8ff;border: 1px dotted black;border-radius: 0.25em;box-sizing: border-box;margin-bottom: 0.5em;}#sk-container-id-1 div.sk-estimator:hover {background-color: #d4ebff;}#sk-container-id-1 div.sk-parallel-item::after {content: \"\";width: 100%;border-bottom: 1px solid gray;flex-grow: 1;}#sk-container-id-1 div.sk-label:hover label.sk-toggleable__label {background-color: #d4ebff;}#sk-container-id-1 div.sk-serial::before {content: \"\";position: absolute;border-left: 1px solid gray;box-sizing: border-box;top: 0;bottom: 0;left: 50%;z-index: 0;}#sk-container-id-1 div.sk-serial {display: flex;flex-direction: column;align-items: center;background-color: white;padding-right: 0.2em;padding-left: 0.2em;position: relative;}#sk-container-id-1 div.sk-item {position: relative;z-index: 1;}#sk-container-id-1 div.sk-parallel {display: flex;align-items: stretch;justify-content: center;background-color: white;position: relative;}#sk-container-id-1 div.sk-item::before, #sk-container-id-1 div.sk-parallel-item::before {content: \"\";position: absolute;border-left: 1px solid gray;box-sizing: border-box;top: 0;bottom: 0;left: 50%;z-index: -1;}#sk-container-id-1 div.sk-parallel-item {display: flex;flex-direction: column;z-index: 1;position: relative;background-color: white;}#sk-container-id-1 div.sk-parallel-item:first-child::after {align-self: flex-end;width: 50%;}#sk-container-id-1 div.sk-parallel-item:last-child::after {align-self: flex-start;width: 50%;}#sk-container-id-1 div.sk-parallel-item:only-child::after {width: 0;}#sk-container-id-1 div.sk-dashed-wrapped {border: 1px dashed gray;margin: 0 0.4em 0.5em 0.4em;box-sizing: border-box;padding-bottom: 0.4em;background-color: white;}#sk-container-id-1 div.sk-label label {font-family: monospace;font-weight: bold;display: inline-block;line-height: 1.2em;}#sk-container-id-1 div.sk-label-container {text-align: center;}#sk-container-id-1 div.sk-container {/* jupyter's `normalize.less` sets `[hidden] { display: none; }` but bootstrap.min.css set `[hidden] { display: none !important; }` so we also need the `!important` here to be able to override the default hidden behavior on the sphinx rendered scikit-learn.org. See: https://github.com/scikit-learn/scikit-learn/issues/21755 */display: inline-block !important;position: relative;}#sk-container-id-1 div.sk-text-repr-fallback {display: none;}</style><div id=\"sk-container-id-1\" class=\"sk-top-container\"><div class=\"sk-text-repr-fallback\"><pre>GaussianNB()</pre><b>In a Jupyter environment, please rerun this cell to show the HTML representation or trust the notebook. <br />On GitHub, the HTML representation is unable to render, please try loading this page with nbviewer.org.</b></div><div class=\"sk-container\" hidden><div class=\"sk-item\"><div class=\"sk-estimator sk-toggleable\"><input class=\"sk-toggleable__control sk-hidden--visually\" id=\"sk-estimator-id-1\" type=\"checkbox\" checked><label for=\"sk-estimator-id-1\" class=\"sk-toggleable__label sk-toggleable__label-arrow\">GaussianNB</label><div class=\"sk-toggleable__content\"><pre>GaussianNB()</pre></div></div></div></div></div>"
            ]
          },
          "metadata": {},
          "execution_count": 10
        }
      ],
      "source": [
        "GNB=GaussianNB()\n",
        "GNB.fit(X_train,Y_train)"
      ]
    },
    {
      "cell_type": "code",
      "execution_count": 11,
      "id": "de1b6df0",
      "metadata": {
        "id": "de1b6df0"
      },
      "outputs": [],
      "source": [
        "Y_pred=GNB.predict(X_test)"
      ]
    },
    {
      "cell_type": "code",
      "execution_count": 13,
      "id": "706cd748",
      "metadata": {
        "id": "706cd748",
        "colab": {
          "base_uri": "https://localhost:8080/"
        },
        "outputId": "a80247bb-e015-477c-cf1f-3460bc29b773"
      },
      "outputs": [
        {
          "output_type": "stream",
          "name": "stdout",
          "text": [
            "Confusion Matrix:\n",
            "[[10  0  0]\n",
            " [ 0  9  0]\n",
            " [ 0  0 11]]\n"
          ]
        }
      ],
      "source": [
        "cm = confusion_matrix(Y_test, Y_pred)\n",
        "print(\"Confusion Matrix:\")\n",
        "print(cm)"
      ]
    },
    {
      "cell_type": "code",
      "source": [
        "TN = cm[0][0]\n",
        "FP = cm[0][1]\n",
        "FN = cm[1][0]\n",
        "TP = cm[1][1]"
      ],
      "metadata": {
        "id": "aj1vbHMl69Rr"
      },
      "id": "aj1vbHMl69Rr",
      "execution_count": 15,
      "outputs": []
    },
    {
      "cell_type": "code",
      "source": [
        "accuracy = (TP + TN) / (TP + TN + FP + FN)\n",
        "error_rate = (FP + FN) / (TP + TN + FP + FN)\n",
        "precision = TP / (TP + FP)\n",
        "recall = TP / (TP + FN)"
      ],
      "metadata": {
        "id": "UMK81cTe7VBM"
      },
      "id": "UMK81cTe7VBM",
      "execution_count": 16,
      "outputs": []
    },
    {
      "cell_type": "code",
      "source": [
        "print(f\"Accuracy: {accuracy:.2f}\")\n",
        "print(f\"Error Rate: {error_rate:.2f}\")\n",
        "print(f\"Precision: {precision:.2f}\")\n",
        "print(f\"Recall: {recall:.2f}\")"
      ],
      "metadata": {
        "colab": {
          "base_uri": "https://localhost:8080/"
        },
        "id": "jD6ODDMD7YzK",
        "outputId": "8bf8a290-ef26-4ff1-e91d-c0f481637369"
      },
      "id": "jD6ODDMD7YzK",
      "execution_count": 17,
      "outputs": [
        {
          "output_type": "stream",
          "name": "stdout",
          "text": [
            "Accuracy: 1.00\n",
            "Error Rate: 0.00\n",
            "Precision: 1.00\n",
            "Recall: 1.00\n"
          ]
        }
      ]
    },
    {
      "cell_type": "code",
      "execution_count": 19,
      "id": "2a602234",
      "metadata": {
        "id": "2a602234",
        "colab": {
          "base_uri": "https://localhost:8080/"
        },
        "outputId": "2b032a83-1cc9-4eb0-8ffc-993e554d2ccb"
      },
      "outputs": [
        {
          "output_type": "stream",
          "name": "stdout",
          "text": [
            "\n",
            "Classification Report:\n",
            "                 precision    recall  f1-score   support\n",
            "\n",
            "    Iris-setosa       1.00      1.00      1.00        10\n",
            "Iris-versicolor       1.00      1.00      1.00         9\n",
            " Iris-virginica       1.00      1.00      1.00        11\n",
            "\n",
            "       accuracy                           1.00        30\n",
            "      macro avg       1.00      1.00      1.00        30\n",
            "   weighted avg       1.00      1.00      1.00        30\n",
            "\n"
          ]
        }
      ],
      "source": [
        "print(\"\\nClassification Report:\")\n",
        "print(classification_report(Y_test, Y_pred))"
      ]
    },
    {
      "cell_type": "code",
      "execution_count": null,
      "id": "d4870f5f",
      "metadata": {
        "id": "d4870f5f"
      },
      "outputs": [],
      "source": []
    }
  ],
  "metadata": {
    "kernelspec": {
      "display_name": "Python 3 (ipykernel)",
      "language": "python",
      "name": "python3"
    },
    "language_info": {
      "codemirror_mode": {
        "name": "ipython",
        "version": 3
      },
      "file_extension": ".py",
      "mimetype": "text/x-python",
      "name": "python",
      "nbconvert_exporter": "python",
      "pygments_lexer": "ipython3",
      "version": "3.9.12"
    },
    "colab": {
      "provenance": []
    }
  },
  "nbformat": 4,
  "nbformat_minor": 5
}